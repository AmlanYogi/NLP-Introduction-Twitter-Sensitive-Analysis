{
 "cells": [
  {
   "cell_type": "code",
   "execution_count": 1,
   "id": "6d325015",
   "metadata": {},
   "outputs": [
    {
     "name": "stdout",
     "output_type": "stream",
     "text": [
      "Collecting spacy\n",
      "  Downloading spacy-3.4.1-cp38-cp38-win_amd64.whl (12.1 MB)\n",
      "     ---------------------------------------- 12.1/12.1 MB 5.7 MB/s eta 0:00:00\n",
      "Requirement already satisfied: setuptools in c:\\users\\91807\\anaconda3\\lib\\site-packages (from spacy) (52.0.0.post20210125)\n",
      "Collecting preshed<3.1.0,>=3.0.2\n",
      "  Downloading preshed-3.0.7-cp38-cp38-win_amd64.whl (96 kB)\n",
      "     ---------------------------------------- 96.7/96.7 kB 5.4 MB/s eta 0:00:00\n",
      "Requirement already satisfied: requests<3.0.0,>=2.13.0 in c:\\users\\91807\\anaconda3\\lib\\site-packages (from spacy) (2.25.1)\n",
      "Collecting srsly<3.0.0,>=2.4.3\n",
      "  Downloading srsly-2.4.4-cp38-cp38-win_amd64.whl (449 kB)\n",
      "     -------------------------------------- 449.9/449.9 kB 9.6 MB/s eta 0:00:00\n",
      "Collecting spacy-legacy<3.1.0,>=3.0.9\n",
      "  Downloading spacy_legacy-3.0.10-py2.py3-none-any.whl (21 kB)\n",
      "Collecting typer<0.5.0,>=0.3.0\n",
      "  Downloading typer-0.4.2-py3-none-any.whl (27 kB)\n",
      "Collecting thinc<8.2.0,>=8.1.0\n",
      "  Downloading thinc-8.1.3-cp38-cp38-win_amd64.whl (1.3 MB)\n",
      "     ---------------------------------------- 1.3/1.3 MB 5.8 MB/s eta 0:00:00\n",
      "Requirement already satisfied: tqdm<5.0.0,>=4.38.0 in c:\\users\\91807\\anaconda3\\lib\\site-packages (from spacy) (4.59.0)\n",
      "Collecting pathy>=0.3.5\n",
      "  Downloading pathy-0.6.2-py3-none-any.whl (42 kB)\n",
      "     ---------------------------------------- 42.8/42.8 kB ? eta 0:00:00\n",
      "Collecting pydantic!=1.8,!=1.8.1,<1.10.0,>=1.7.4\n",
      "  Downloading pydantic-1.9.2-cp38-cp38-win_amd64.whl (2.1 MB)\n",
      "     ---------------------------------------- 2.1/2.1 MB 6.6 MB/s eta 0:00:00\n",
      "Collecting catalogue<2.1.0,>=2.0.6\n",
      "  Downloading catalogue-2.0.8-py3-none-any.whl (17 kB)\n",
      "Collecting murmurhash<1.1.0,>=0.28.0\n",
      "  Downloading murmurhash-1.0.8-cp38-cp38-win_amd64.whl (18 kB)\n",
      "Collecting spacy-loggers<2.0.0,>=1.0.0\n",
      "  Downloading spacy_loggers-1.0.3-py3-none-any.whl (9.3 kB)\n",
      "Collecting cymem<2.1.0,>=2.0.2\n",
      "  Downloading cymem-2.0.6-cp38-cp38-win_amd64.whl (36 kB)\n",
      "Collecting wasabi<1.1.0,>=0.9.1\n",
      "  Downloading wasabi-0.10.1-py3-none-any.whl (26 kB)\n",
      "Requirement already satisfied: jinja2 in c:\\users\\91807\\anaconda3\\lib\\site-packages (from spacy) (2.11.3)\n",
      "Requirement already satisfied: numpy>=1.15.0 in c:\\users\\91807\\anaconda3\\lib\\site-packages (from spacy) (1.20.1)\n",
      "Collecting langcodes<4.0.0,>=3.2.0\n",
      "  Downloading langcodes-3.3.0-py3-none-any.whl (181 kB)\n",
      "     ------------------------------------- 181.6/181.6 kB 11.4 MB/s eta 0:00:00\n",
      "Requirement already satisfied: packaging>=20.0 in c:\\users\\91807\\anaconda3\\lib\\site-packages (from spacy) (20.9)\n",
      "Requirement already satisfied: pyparsing>=2.0.2 in c:\\users\\91807\\anaconda3\\lib\\site-packages (from packaging>=20.0->spacy) (2.4.7)\n",
      "Collecting smart-open<6.0.0,>=5.2.1\n",
      "  Downloading smart_open-5.2.1-py3-none-any.whl (58 kB)\n",
      "     ---------------------------------------- 58.6/58.6 kB 3.0 MB/s eta 0:00:00\n",
      "Requirement already satisfied: typing-extensions>=3.7.4.3 in c:\\users\\91807\\anaconda3\\lib\\site-packages (from pydantic!=1.8,!=1.8.1,<1.10.0,>=1.7.4->spacy) (3.7.4.3)\n",
      "Requirement already satisfied: urllib3<1.27,>=1.21.1 in c:\\users\\91807\\anaconda3\\lib\\site-packages (from requests<3.0.0,>=2.13.0->spacy) (1.26.4)\n",
      "Requirement already satisfied: chardet<5,>=3.0.2 in c:\\users\\91807\\anaconda3\\lib\\site-packages (from requests<3.0.0,>=2.13.0->spacy) (4.0.0)\n",
      "Requirement already satisfied: certifi>=2017.4.17 in c:\\users\\91807\\anaconda3\\lib\\site-packages (from requests<3.0.0,>=2.13.0->spacy) (2020.12.5)\n",
      "Requirement already satisfied: idna<3,>=2.5 in c:\\users\\91807\\anaconda3\\lib\\site-packages (from requests<3.0.0,>=2.13.0->spacy) (2.10)\n",
      "Collecting blis<0.8.0,>=0.7.8\n",
      "  Downloading blis-0.7.8-cp38-cp38-win_amd64.whl (6.6 MB)\n",
      "     ---------------------------------------- 6.6/6.6 MB 6.1 MB/s eta 0:00:00\n",
      "Collecting confection<1.0.0,>=0.0.1\n",
      "  Downloading confection-0.0.3-py3-none-any.whl (32 kB)\n",
      "Requirement already satisfied: click<9.0.0,>=7.1.1 in c:\\users\\91807\\anaconda3\\lib\\site-packages (from typer<0.5.0,>=0.3.0->spacy) (7.1.2)\n",
      "Requirement already satisfied: MarkupSafe>=0.23 in c:\\users\\91807\\anaconda3\\lib\\site-packages (from jinja2->spacy) (1.1.1)\n",
      "Installing collected packages: wasabi, cymem, typer, spacy-loggers, spacy-legacy, smart-open, pydantic, murmurhash, langcodes, catalogue, blis, srsly, preshed, pathy, confection, thinc, spacy\n",
      "Successfully installed blis-0.7.8 catalogue-2.0.8 confection-0.0.3 cymem-2.0.6 langcodes-3.3.0 murmurhash-1.0.8 pathy-0.6.2 preshed-3.0.7 pydantic-1.9.2 smart-open-5.2.1 spacy-3.4.1 spacy-legacy-3.0.10 spacy-loggers-1.0.3 srsly-2.4.4 thinc-8.1.3 typer-0.4.2 wasabi-0.10.1\n"
     ]
    }
   ],
   "source": [
    "!pip install spacy --upgrade\n"
   ]
  },
  {
   "cell_type": "code",
   "execution_count": 2,
   "id": "eed61243",
   "metadata": {},
   "outputs": [
    {
     "name": "stdout",
     "output_type": "stream",
     "text": [
      "3.4.1\n"
     ]
    }
   ],
   "source": [
    "import spacy\n",
    "print(spacy.__version__)"
   ]
  },
  {
   "cell_type": "code",
   "execution_count": 3,
   "id": "41e8f250",
   "metadata": {},
   "outputs": [
    {
     "name": "stdout",
     "output_type": "stream",
     "text": [
      "Collecting en-core-web-sm==3.4.0\n",
      "  Downloading https://github.com/explosion/spacy-models/releases/download/en_core_web_sm-3.4.0/en_core_web_sm-3.4.0-py3-none-any.whl (12.8 MB)\n",
      "     ---------------------------------------- 12.8/12.8 MB 5.5 MB/s eta 0:00:00\n",
      "Requirement already satisfied: spacy<3.5.0,>=3.4.0 in c:\\users\\91807\\anaconda3\\lib\\site-packages (from en-core-web-sm==3.4.0) (3.4.1)\n",
      "Requirement already satisfied: spacy-legacy<3.1.0,>=3.0.9 in c:\\users\\91807\\anaconda3\\lib\\site-packages (from spacy<3.5.0,>=3.4.0->en-core-web-sm==3.4.0) (3.0.10)\n",
      "Requirement already satisfied: requests<3.0.0,>=2.13.0 in c:\\users\\91807\\anaconda3\\lib\\site-packages (from spacy<3.5.0,>=3.4.0->en-core-web-sm==3.4.0) (2.25.1)\n",
      "Requirement already satisfied: packaging>=20.0 in c:\\users\\91807\\anaconda3\\lib\\site-packages (from spacy<3.5.0,>=3.4.0->en-core-web-sm==3.4.0) (20.9)\n",
      "Requirement already satisfied: thinc<8.2.0,>=8.1.0 in c:\\users\\91807\\anaconda3\\lib\\site-packages (from spacy<3.5.0,>=3.4.0->en-core-web-sm==3.4.0) (8.1.3)\n",
      "Requirement already satisfied: murmurhash<1.1.0,>=0.28.0 in c:\\users\\91807\\anaconda3\\lib\\site-packages (from spacy<3.5.0,>=3.4.0->en-core-web-sm==3.4.0) (1.0.8)\n",
      "Requirement already satisfied: pathy>=0.3.5 in c:\\users\\91807\\anaconda3\\lib\\site-packages (from spacy<3.5.0,>=3.4.0->en-core-web-sm==3.4.0) (0.6.2)\n",
      "Requirement already satisfied: pydantic!=1.8,!=1.8.1,<1.10.0,>=1.7.4 in c:\\users\\91807\\anaconda3\\lib\\site-packages (from spacy<3.5.0,>=3.4.0->en-core-web-sm==3.4.0) (1.9.2)\n",
      "Requirement already satisfied: tqdm<5.0.0,>=4.38.0 in c:\\users\\91807\\anaconda3\\lib\\site-packages (from spacy<3.5.0,>=3.4.0->en-core-web-sm==3.4.0) (4.59.0)\n",
      "Requirement already satisfied: srsly<3.0.0,>=2.4.3 in c:\\users\\91807\\anaconda3\\lib\\site-packages (from spacy<3.5.0,>=3.4.0->en-core-web-sm==3.4.0) (2.4.4)\n",
      "Requirement already satisfied: wasabi<1.1.0,>=0.9.1 in c:\\users\\91807\\anaconda3\\lib\\site-packages (from spacy<3.5.0,>=3.4.0->en-core-web-sm==3.4.0) (0.10.1)\n",
      "Requirement already satisfied: setuptools in c:\\users\\91807\\anaconda3\\lib\\site-packages (from spacy<3.5.0,>=3.4.0->en-core-web-sm==3.4.0) (52.0.0.post20210125)\n",
      "Requirement already satisfied: catalogue<2.1.0,>=2.0.6 in c:\\users\\91807\\anaconda3\\lib\\site-packages (from spacy<3.5.0,>=3.4.0->en-core-web-sm==3.4.0) (2.0.8)\n",
      "Requirement already satisfied: typer<0.5.0,>=0.3.0 in c:\\users\\91807\\anaconda3\\lib\\site-packages (from spacy<3.5.0,>=3.4.0->en-core-web-sm==3.4.0) (0.4.2)\n",
      "Requirement already satisfied: preshed<3.1.0,>=3.0.2 in c:\\users\\91807\\anaconda3\\lib\\site-packages (from spacy<3.5.0,>=3.4.0->en-core-web-sm==3.4.0) (3.0.7)\n",
      "Requirement already satisfied: langcodes<4.0.0,>=3.2.0 in c:\\users\\91807\\anaconda3\\lib\\site-packages (from spacy<3.5.0,>=3.4.0->en-core-web-sm==3.4.0) (3.3.0)\n",
      "Requirement already satisfied: numpy>=1.15.0 in c:\\users\\91807\\anaconda3\\lib\\site-packages (from spacy<3.5.0,>=3.4.0->en-core-web-sm==3.4.0) (1.20.1)\n",
      "Requirement already satisfied: cymem<2.1.0,>=2.0.2 in c:\\users\\91807\\anaconda3\\lib\\site-packages (from spacy<3.5.0,>=3.4.0->en-core-web-sm==3.4.0) (2.0.6)\n",
      "Requirement already satisfied: jinja2 in c:\\users\\91807\\anaconda3\\lib\\site-packages (from spacy<3.5.0,>=3.4.0->en-core-web-sm==3.4.0) (2.11.3)\n",
      "Requirement already satisfied: spacy-loggers<2.0.0,>=1.0.0 in c:\\users\\91807\\anaconda3\\lib\\site-packages (from spacy<3.5.0,>=3.4.0->en-core-web-sm==3.4.0) (1.0.3)\n",
      "Requirement already satisfied: pyparsing>=2.0.2 in c:\\users\\91807\\anaconda3\\lib\\site-packages (from packaging>=20.0->spacy<3.5.0,>=3.4.0->en-core-web-sm==3.4.0) (2.4.7)\n",
      "Requirement already satisfied: smart-open<6.0.0,>=5.2.1 in c:\\users\\91807\\anaconda3\\lib\\site-packages (from pathy>=0.3.5->spacy<3.5.0,>=3.4.0->en-core-web-sm==3.4.0) (5.2.1)\n",
      "Requirement already satisfied: typing-extensions>=3.7.4.3 in c:\\users\\91807\\anaconda3\\lib\\site-packages (from pydantic!=1.8,!=1.8.1,<1.10.0,>=1.7.4->spacy<3.5.0,>=3.4.0->en-core-web-sm==3.4.0) (3.7.4.3)\n",
      "Requirement already satisfied: chardet<5,>=3.0.2 in c:\\users\\91807\\anaconda3\\lib\\site-packages (from requests<3.0.0,>=2.13.0->spacy<3.5.0,>=3.4.0->en-core-web-sm==3.4.0) (4.0.0)\n",
      "Requirement already satisfied: idna<3,>=2.5 in c:\\users\\91807\\anaconda3\\lib\\site-packages (from requests<3.0.0,>=2.13.0->spacy<3.5.0,>=3.4.0->en-core-web-sm==3.4.0) (2.10)\n",
      "Requirement already satisfied: certifi>=2017.4.17 in c:\\users\\91807\\anaconda3\\lib\\site-packages (from requests<3.0.0,>=2.13.0->spacy<3.5.0,>=3.4.0->en-core-web-sm==3.4.0) (2020.12.5)\n",
      "Requirement already satisfied: urllib3<1.27,>=1.21.1 in c:\\users\\91807\\anaconda3\\lib\\site-packages (from requests<3.0.0,>=2.13.0->spacy<3.5.0,>=3.4.0->en-core-web-sm==3.4.0) (1.26.4)\n",
      "Requirement already satisfied: confection<1.0.0,>=0.0.1 in c:\\users\\91807\\anaconda3\\lib\\site-packages (from thinc<8.2.0,>=8.1.0->spacy<3.5.0,>=3.4.0->en-core-web-sm==3.4.0) (0.0.3)\n",
      "Requirement already satisfied: blis<0.8.0,>=0.7.8 in c:\\users\\91807\\anaconda3\\lib\\site-packages (from thinc<8.2.0,>=8.1.0->spacy<3.5.0,>=3.4.0->en-core-web-sm==3.4.0) (0.7.8)\n",
      "Requirement already satisfied: click<9.0.0,>=7.1.1 in c:\\users\\91807\\anaconda3\\lib\\site-packages (from typer<0.5.0,>=0.3.0->spacy<3.5.0,>=3.4.0->en-core-web-sm==3.4.0) (7.1.2)\n",
      "Requirement already satisfied: MarkupSafe>=0.23 in c:\\users\\91807\\anaconda3\\lib\\site-packages (from jinja2->spacy<3.5.0,>=3.4.0->en-core-web-sm==3.4.0) (1.1.1)\n",
      "Installing collected packages: en-core-web-sm\n",
      "Successfully installed en-core-web-sm-3.4.0\n",
      "[+] Download and installation successful\n",
      "You can now load the package via spacy.load('en_core_web_sm')\n"
     ]
    },
    {
     "name": "stderr",
     "output_type": "stream",
     "text": [
      "2022-10-12 20:32:33.195420: W tensorflow/stream_executor/platform/default/dso_loader.cc:64] Could not load dynamic library 'cudart64_110.dll'; dlerror: cudart64_110.dll not found\n",
      "2022-10-12 20:32:33.195464: I tensorflow/stream_executor/cuda/cudart_stub.cc:29] Ignore above cudart dlerror if you do not have a GPU set up on your machine.\n",
      "2022-10-12 20:32:35.762626: W tensorflow/stream_executor/platform/default/dso_loader.cc:64] Could not load dynamic library 'nvcuda.dll'; dlerror: nvcuda.dll not found\n",
      "2022-10-12 20:32:35.762660: W tensorflow/stream_executor/cuda/cuda_driver.cc:263] failed call to cuInit: UNKNOWN ERROR (303)\n",
      "2022-10-12 20:32:35.766346: I tensorflow/stream_executor/cuda/cuda_diagnostics.cc:169] retrieving CUDA diagnostic information for host: LAPTOP-VACLUP89\n",
      "2022-10-12 20:32:35.766421: I tensorflow/stream_executor/cuda/cuda_diagnostics.cc:176] hostname: LAPTOP-VACLUP89\n"
     ]
    }
   ],
   "source": [
    "!python -m spacy download en_core_web_sm"
   ]
  },
  {
   "cell_type": "markdown",
   "id": "322f9d83",
   "metadata": {},
   "source": [
    "# POS (Part-of-speech)"
   ]
  },
  {
   "cell_type": "markdown",
   "id": "c551a497",
   "metadata": {},
   "source": [
    "# POS (part-of-speech): noun, adjective, verb\n",
    "# It is important to findd enamed entities"
   ]
  },
  {
   "cell_type": "raw",
   "id": "66fb0d67",
   "metadata": {},
   "source": [
    "# import en_core_web_sm"
   ]
  },
  {
   "cell_type": "markdown",
   "id": "430b66eb",
   "metadata": {},
   "source": [
    "nlp = spacy.load('en_core_web_sm')"
   ]
  },
  {
   "cell_type": "code",
   "execution_count": 6,
   "id": "d65f1dc6",
   "metadata": {},
   "outputs": [
    {
     "data": {
      "text/plain": [
       "<spacy.lang.en.English at 0x1559971c0a0>"
      ]
     },
     "execution_count": 6,
     "metadata": {},
     "output_type": "execute_result"
    }
   ],
   "source": [
    "nlp"
   ]
  },
  {
   "cell_type": "code",
   "execution_count": 24,
   "id": "2652b8b7",
   "metadata": {},
   "outputs": [],
   "source": [
    "document= nlp('I am learning Natural Language Processing. The course name is PG Program in Data Engineering')"
   ]
  },
  {
   "cell_type": "code",
   "execution_count": 14,
   "id": "f284ddc2",
   "metadata": {},
   "outputs": [
    {
     "name": "stdout",
     "output_type": "stream",
     "text": [
      "I PRON\n",
      "am AUX\n",
      "learning VERB\n",
      "Natural PROPN\n",
      "Language PROPN\n",
      "Processing PROPN\n",
      ". PUNCT\n",
      "The DET\n",
      "course NOUN\n",
      "name NOUN\n",
      "is AUX\n",
      "PG PROPN\n",
      "Program PROPN\n",
      "in ADP\n",
      "Data PROPN\n",
      "Engineering PROPN\n"
     ]
    }
   ],
   "source": [
    "for token in document:\n",
    "    print(token.text, token.pos_) # pos means parts-of-speech"
   ]
  },
  {
   "cell_type": "markdown",
   "id": "611313b6",
   "metadata": {},
   "source": [
    "# Lemmatization and Stemming"
   ]
  },
  {
   "cell_type": "code",
   "execution_count": null,
   "id": "b51679fd",
   "metadata": {},
   "outputs": [],
   "source": [
    "# Lemmatization: meaning of the word based on the dictionary (morphological analysis)- extract the base word \n",
    "# Stemming: extract the root of the word"
   ]
  },
  {
   "cell_type": "code",
   "execution_count": 15,
   "id": "097d01b3",
   "metadata": {},
   "outputs": [
    {
     "name": "stdout",
     "output_type": "stream",
     "text": [
      "I I\n",
      "am be\n",
      "learning learn\n",
      "Natural Natural\n",
      "Language Language\n",
      "Processing Processing\n",
      ". .\n",
      "The the\n",
      "course course\n",
      "name name\n",
      "is be\n",
      "PG PG\n",
      "Program Program\n",
      "in in\n",
      "Data Data\n",
      "Engineering Engineering\n"
     ]
    }
   ],
   "source": [
    "for token in document:\n",
    "    print(token.text, token.lemma_)"
   ]
  },
  {
   "cell_type": "markdown",
   "id": "11f91c5c",
   "metadata": {},
   "source": [
    "# Lemmatization x Stemming"
   ]
  },
  {
   "cell_type": "code",
   "execution_count": 16,
   "id": "93fd204d",
   "metadata": {},
   "outputs": [],
   "source": [
    "import nltk"
   ]
  },
  {
   "cell_type": "code",
   "execution_count": 18,
   "id": "1e4691c6",
   "metadata": {},
   "outputs": [
    {
     "data": {
      "text/plain": [
       "'learn'"
      ]
     },
     "execution_count": 18,
     "metadata": {},
     "output_type": "execute_result"
    }
   ],
   "source": [
    "stemmer= nltk.stem.PorterStemmer()\n",
    "stemmer.stem('learning')"
   ]
  },
  {
   "cell_type": "code",
   "execution_count": 20,
   "id": "fbd82024",
   "metadata": {},
   "outputs": [
    {
     "name": "stdout",
     "output_type": "stream",
     "text": [
      "I\tI\ti\n",
      "am\tbe\tam\n",
      "learning\tlearn\tlearn\n",
      "Natural\tNatural\tnatur\n",
      "Language\tLanguage\tlanguag\n",
      "Processing\tProcessing\tprocess\n",
      ".\t.\t.\n",
      "The\tthe\tthe\n",
      "course\tcourse\tcours\n",
      "name\tname\tname\n",
      "is\tbe\tis\n",
      "PG\tPG\tpg\n",
      "Program\tProgram\tprogram\n",
      "in\tin\tin\n",
      "Data\tData\tdata\n",
      "Engineering\tEngineering\tengin\n"
     ]
    }
   ],
   "source": [
    "for token in document:\n",
    "    print(f'{token.text}\\t{token.lemma_}\\t{stemmer.stem(token.text)}')"
   ]
  },
  {
   "cell_type": "markdown",
   "id": "bf362ab5",
   "metadata": {},
   "source": [
    "# Named-entity recognition (NER)"
   ]
  },
  {
   "cell_type": "code",
   "execution_count": 36,
   "id": "389ece84",
   "metadata": {},
   "outputs": [],
   "source": [
    "text = 'IBM is a US company and located in Chennai, started in the year 1990. This year revenue is 300 billion dollars'"
   ]
  },
  {
   "cell_type": "code",
   "execution_count": 37,
   "id": "994c20ee",
   "metadata": {},
   "outputs": [],
   "source": [
    "document = nlp(text)"
   ]
  },
  {
   "cell_type": "code",
   "execution_count": 38,
   "id": "a66eb090",
   "metadata": {},
   "outputs": [
    {
     "data": {
      "text/plain": [
       "IBM is a US company and located in Chennai, started in the year 1990. This year revenue is 300 billion dollars"
      ]
     },
     "execution_count": 38,
     "metadata": {},
     "output_type": "execute_result"
    }
   ],
   "source": [
    "document"
   ]
  },
  {
   "cell_type": "code",
   "execution_count": 39,
   "id": "d3f6d90c",
   "metadata": {},
   "outputs": [
    {
     "name": "stdout",
     "output_type": "stream",
     "text": [
      "IBM ORG\n",
      "US GPE\n",
      "Chennai ORG\n",
      "the year 1990 DATE\n",
      "This year DATE\n",
      "300 billion dollars MONEY\n"
     ]
    }
   ],
   "source": [
    "for entity in document.ents:\n",
    "    print(entity.text, entity.label_)"
   ]
  },
  {
   "cell_type": "code",
   "execution_count": 40,
   "id": "ce4570cb",
   "metadata": {},
   "outputs": [
    {
     "data": {
      "text/html": [
       "<span class=\"tex2jax_ignore\"><div class=\"entities\" style=\"line-height: 2.5; direction: ltr\">\n",
       "<mark class=\"entity\" style=\"background: #7aecec; padding: 0.45em 0.6em; margin: 0 0.25em; line-height: 1; border-radius: 0.35em;\">\n",
       "    IBM\n",
       "    <span style=\"font-size: 0.8em; font-weight: bold; line-height: 1; border-radius: 0.35em; vertical-align: middle; margin-left: 0.5rem\">ORG</span>\n",
       "</mark>\n",
       " is a \n",
       "<mark class=\"entity\" style=\"background: #feca74; padding: 0.45em 0.6em; margin: 0 0.25em; line-height: 1; border-radius: 0.35em;\">\n",
       "    US\n",
       "    <span style=\"font-size: 0.8em; font-weight: bold; line-height: 1; border-radius: 0.35em; vertical-align: middle; margin-left: 0.5rem\">GPE</span>\n",
       "</mark>\n",
       " company and located in \n",
       "<mark class=\"entity\" style=\"background: #7aecec; padding: 0.45em 0.6em; margin: 0 0.25em; line-height: 1; border-radius: 0.35em;\">\n",
       "    Chennai\n",
       "    <span style=\"font-size: 0.8em; font-weight: bold; line-height: 1; border-radius: 0.35em; vertical-align: middle; margin-left: 0.5rem\">ORG</span>\n",
       "</mark>\n",
       ", started in \n",
       "<mark class=\"entity\" style=\"background: #bfe1d9; padding: 0.45em 0.6em; margin: 0 0.25em; line-height: 1; border-radius: 0.35em;\">\n",
       "    the year 1990\n",
       "    <span style=\"font-size: 0.8em; font-weight: bold; line-height: 1; border-radius: 0.35em; vertical-align: middle; margin-left: 0.5rem\">DATE</span>\n",
       "</mark>\n",
       ". \n",
       "<mark class=\"entity\" style=\"background: #bfe1d9; padding: 0.45em 0.6em; margin: 0 0.25em; line-height: 1; border-radius: 0.35em;\">\n",
       "    This year\n",
       "    <span style=\"font-size: 0.8em; font-weight: bold; line-height: 1; border-radius: 0.35em; vertical-align: middle; margin-left: 0.5rem\">DATE</span>\n",
       "</mark>\n",
       " revenue is \n",
       "<mark class=\"entity\" style=\"background: #e4e7d2; padding: 0.45em 0.6em; margin: 0 0.25em; line-height: 1; border-radius: 0.35em;\">\n",
       "    300 billion dollars\n",
       "    <span style=\"font-size: 0.8em; font-weight: bold; line-height: 1; border-radius: 0.35em; vertical-align: middle; margin-left: 0.5rem\">MONEY</span>\n",
       "</mark>\n",
       "</div></span>"
      ],
      "text/plain": [
       "<IPython.core.display.HTML object>"
      ]
     },
     "metadata": {},
     "output_type": "display_data"
    }
   ],
   "source": [
    "# visualize above in a better way\n",
    "\n",
    "from spacy import displacy\n",
    "displacy.render(document, style= 'ent')"
   ]
  },
  {
   "cell_type": "markdown",
   "id": "1f11895f",
   "metadata": {},
   "source": [
    "# Stopwoards"
   ]
  },
  {
   "cell_type": "code",
   "execution_count": null,
   "id": "b165fa57",
   "metadata": {},
   "outputs": [],
   "source": [
    "# Words that appear very often and don't help to understand the context of the document"
   ]
  },
  {
   "cell_type": "code",
   "execution_count": 42,
   "id": "2d048138",
   "metadata": {},
   "outputs": [
    {
     "name": "stdout",
     "output_type": "stream",
     "text": [
      "{'whoever', 'full', 'own', 'whether', 'an', '‘re', 'down', 'once', 'off', 'was', 'too', 'next', 'hence', 'beforehand', 'enough', 'keep', 'amongst', 'besides', 'may', 'do', 'ca', 'very', 'ten', 'show', 'get', 'cannot', 'be', 'up', 'nevertheless', 'she', '‘ve', 'the', 'take', 'will', \"'ve\", 'latterly', 'mine', 'me', 'former', 'where', 'beyond', 'myself', 'meanwhile', 'something', 'but', 'always', 'into', 'formerly', 'their', 'did', 'until', 'first', 'been', 'three', 'ourselves', 'on', 'empty', 'somewhere', 'everyone', 'hereafter', 'seems', 'perhaps', 'just', 'except', 'four', 'another', 'nor', 'yours', 'mostly', 'this', 'to', 'thereupon', 'by', 'none', 'last', 'whole', 'that', 'below', 'front', 'many', 'hereupon', 'now', 'therein', 'whereafter', 'themselves', 'these', 'due', 'eight', 'please', \"'re\", 'our', 'third', 'among', 'does', 'became', 'before', 'however', 'alone', 'its', 'against', 'across', 'you', 'sometimes', 'then', 'here', 'somehow', 'via', 'often', 'indeed', 'can', 'eleven', 'why', 'along', 'herself', 'from', 'because', 'both', 'within', 'and', 'during', 'therefore', 'becomes', 'they', 'otherwise', 'for', 'almost', '’ve', 'seem', 'name', 'really', 'we', 'might', 'are', 'being', 'if', 'he', 'although', 'per', 'n‘t', 'had', 'fifty', 'again', 'everywhere', 'so', 'whose', \"n't\", 'few', 'us', 'or', '’re', 'much', 'yourself', 'side', 'using', 'least', 'upon', 'six', 'seeming', 'whereas', 'above', 're', 'thence', 'after', 'doing', '’m', 'some', 'ever', 'top', 'twelve', 'it', 'whither', 'n’t', 'his', 'i', 'behind', 'as', 'anyway', 'else', 'nine', 'thus', 'who', 'between', 'himself', 'hundred', 'throughout', 'say', 'out', 'namely', 'various', 'whatever', 'whence', 'herein', 'anywhere', 'nobody', 'less', 'without', 'through', 'since', 'them', '’s', 'sometime', 'never', 'in', 'forty', 'becoming', 'part', 'become', 'anyhow', 'thereafter', 'well', 'made', 'when', '’ll', 'whom', 'five', 'yet', 'only', 'sixty', 'regarding', 'done', 'hers', \"'s\", 'two', 'quite', 'should', \"'m\", 'bottom', 'others', 'beside', 'whereby', 'even', 'has', 'move', 'of', 'further', 'were', 'around', 'him', 'most', 'whenever', 'thereby', 'with', '‘ll', 'several', 'also', 'go', 'elsewhere', 'onto', 'put', 'which', 'neither', '‘s', '‘d', 'moreover', 'used', '‘m', 'seemed', 'nowhere', 'towards', 'those', 'afterwards', 'twenty', 'what', 'nothing', 'any', 'must', \"'d\", 'more', 'hereby', 'wherever', 'there', 'though', 'same', 'make', 'each', 'thru', 'amount', 'see', 'ours', \"'ll\", 'either', 'latter', 'anyone', 'how', 'rather', 'over', 'noone', 'no', 'such', 'still', 'would', 'my', 'her', 'could', 'fifteen', 'every', 'than', 'someone', 'anything', 'other', 'a', 'already', 'am', 'have', 'all', 'about', 'wherein', 'not', 'together', 'is', 'your', 'yourselves', 'while', 'unless', 'call', 'whereupon', 'give', 'under', 'back', 'everything', 'toward', 'at', 'itself', 'serious', '’d', 'one'}\n"
     ]
    }
   ],
   "source": [
    "from spacy.lang.en.stop_words import STOP_WORDS\n",
    "print(STOP_WORDS)"
   ]
  },
  {
   "cell_type": "code",
   "execution_count": 43,
   "id": "b338db70",
   "metadata": {},
   "outputs": [
    {
     "data": {
      "text/plain": [
       "326"
      ]
     },
     "execution_count": 43,
     "metadata": {},
     "output_type": "execute_result"
    }
   ],
   "source": [
    "len(STOP_WORDS)"
   ]
  },
  {
   "cell_type": "code",
   "execution_count": 44,
   "id": "97c25319",
   "metadata": {},
   "outputs": [
    {
     "data": {
      "text/plain": [
       "True"
      ]
     },
     "execution_count": 44,
     "metadata": {},
     "output_type": "execute_result"
    }
   ],
   "source": [
    "'it' in STOP_WORDS # check a particular string is available in it or not"
   ]
  },
  {
   "cell_type": "code",
   "execution_count": 45,
   "id": "057ad2d7",
   "metadata": {},
   "outputs": [
    {
     "data": {
      "text/plain": [
       "False"
      ]
     },
     "execution_count": 45,
     "metadata": {},
     "output_type": "execute_result"
    }
   ],
   "source": [
    "# Using NLP method\n",
    "nlp.vocab['chennai'].is_stop"
   ]
  },
  {
   "cell_type": "code",
   "execution_count": 46,
   "id": "bccc5c61",
   "metadata": {},
   "outputs": [
    {
     "name": "stdout",
     "output_type": "stream",
     "text": [
      "is\n",
      "a\n",
      "US\n",
      "and\n",
      "in\n",
      "in\n",
      "the\n",
      "This\n",
      "is\n"
     ]
    }
   ],
   "source": [
    "# print stop words separately from the 'text' document\n",
    "\n",
    "for token in document:\n",
    "    if nlp.vocab[token.text].is_stop:\n",
    "        print(token.text)"
   ]
  },
  {
   "cell_type": "code",
   "execution_count": 47,
   "id": "62df2af9",
   "metadata": {},
   "outputs": [
    {
     "name": "stdout",
     "output_type": "stream",
     "text": [
      "IBM\n",
      "company\n",
      "located\n",
      "Chennai\n",
      ",\n",
      "started\n",
      "year\n",
      "1990\n",
      ".\n",
      "year\n",
      "revenue\n",
      "300\n",
      "billion\n",
      "dollars\n"
     ]
    }
   ],
   "source": [
    "# print not stop words separately from the 'text' document\n",
    "\n",
    "for token in document:\n",
    "    if not nlp.vocab[token.text].is_stop:\n",
    "        print(token.text)"
   ]
  },
  {
   "cell_type": "markdown",
   "id": "5c7f62e2",
   "metadata": {},
   "source": [
    "# Tokenization"
   ]
  },
  {
   "cell_type": "code",
   "execution_count": null,
   "id": "0893e606",
   "metadata": {},
   "outputs": [],
   "source": [
    "# prints words/ tokens after the space"
   ]
  },
  {
   "cell_type": "code",
   "execution_count": 48,
   "id": "30bfd207",
   "metadata": {},
   "outputs": [],
   "source": [
    "document1 = nlp('I am learning natural language processisng. The course is in London. Ph.D John is coming ')"
   ]
  },
  {
   "cell_type": "code",
   "execution_count": 49,
   "id": "2a27cb47",
   "metadata": {},
   "outputs": [
    {
     "name": "stdout",
     "output_type": "stream",
     "text": [
      "I\n",
      "am\n",
      "learning\n",
      "natural\n",
      "language\n",
      "processisng\n",
      ".\n",
      "The\n",
      "course\n",
      "is\n",
      "in\n",
      "London\n",
      ".\n",
      "Ph\n",
      ".\n",
      "D\n",
      "John\n",
      "is\n",
      "coming\n"
     ]
    }
   ],
   "source": [
    "for token in document1:\n",
    "    print(token)"
   ]
  },
  {
   "cell_type": "code",
   "execution_count": 50,
   "id": "f2afa5c9",
   "metadata": {},
   "outputs": [
    {
     "data": {
      "text/plain": [
       "['I am learning natural language processing',\n",
       " ' The course is in London',\n",
       " ' Ph',\n",
       " 'D Amlan is coming']"
      ]
     },
     "execution_count": 50,
     "metadata": {},
     "output_type": "execute_result"
    }
   ],
   "source": [
    "document2 = 'I am learning natural language processing. The course is in London. Ph.D Amlan is coming'\n",
    "document2.split('.')"
   ]
  },
  {
   "cell_type": "code",
   "execution_count": null,
   "id": "e0912622",
   "metadata": {},
   "outputs": [],
   "source": []
  },
  {
   "cell_type": "code",
   "execution_count": null,
   "id": "39a6dc89",
   "metadata": {},
   "outputs": [],
   "source": []
  },
  {
   "cell_type": "code",
   "execution_count": null,
   "id": "e2396b67",
   "metadata": {},
   "outputs": [],
   "source": []
  },
  {
   "cell_type": "code",
   "execution_count": null,
   "id": "4131d2cd",
   "metadata": {},
   "outputs": [],
   "source": []
  },
  {
   "cell_type": "code",
   "execution_count": null,
   "id": "e2e65ded",
   "metadata": {},
   "outputs": [],
   "source": []
  },
  {
   "cell_type": "code",
   "execution_count": null,
   "id": "b05a6677",
   "metadata": {},
   "outputs": [],
   "source": []
  },
  {
   "cell_type": "code",
   "execution_count": null,
   "id": "a924c640",
   "metadata": {},
   "outputs": [],
   "source": []
  }
 ],
 "metadata": {
  "kernelspec": {
   "display_name": "Python 3",
   "language": "python",
   "name": "python3"
  },
  "language_info": {
   "codemirror_mode": {
    "name": "ipython",
    "version": 3
   },
   "file_extension": ".py",
   "mimetype": "text/x-python",
   "name": "python",
   "nbconvert_exporter": "python",
   "pygments_lexer": "ipython3",
   "version": "3.8.8"
  }
 },
 "nbformat": 4,
 "nbformat_minor": 5
}
